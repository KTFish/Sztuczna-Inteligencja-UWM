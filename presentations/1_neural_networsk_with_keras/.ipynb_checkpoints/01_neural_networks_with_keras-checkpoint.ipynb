{
 "cells": [
  {
   "cell_type": "markdown",
   "id": "f047f19a",
   "metadata": {},
   "source": [
    "# Sieci Neuronowe z Keras\n",
    "##### Przygotował: Jan Karaś\n",
    "\n",
    "<br>\n",
    "\n",
    "Wprowadzenie w praktycnzy aspekt korzystania z Sieci Neuronowych. Z tego notatnika dowiesz się jak:\n",
    "- skonfigurować sobie środowisko pracy, tak aby uniknąć irytujących problemów\n",
    "- czym jest Keras i jak za jego pomocą tworzyć sieci neuronowe\n",
    "- udoskonalać i zapysywać wytrenowaną sieć"
   ]
  },
  {
   "cell_type": "markdown",
   "id": "979b8abb",
   "metadata": {},
   "source": [
    "# Konfiguracja"
   ]
  },
  {
   "cell_type": "markdown",
   "id": "ec39a56b",
   "metadata": {},
   "source": [
    "###  Środowisko wirtualne oraz dodanie go do Notatnika Jupyter\n",
    "<div class=\"alert alert-block alert-info\">\n",
    "<b>Wskazówka</b> Najlepiej wszystkie komendy i proces instalacji zrobić w Anaconda Prompt. W notatnikach Jupyter nie widać postępów i dłużące się czekanie może być uciążliwe.\n",
    "</div>\n",
    "\n",
    "Aby stworzyć wirtualne środowisko dla swojego projektu a następnie dodać je do notatnika jupyter wykonaj poniższe polecenia w konsoli:\n",
    "<div class=\"alert alert-block alert-success\" style=\"font-family: monospace\">\n",
    "conda create --name twojaNazwa<br>\n",
    "conda activate twojaNazwa<br>\n",
    "conda install -c anaconda ipykernel<br>\n",
    "python -m ipykernel install --user --name=twojaNazwa<br>\n",
    "</div>\n",
    "\n",
    "### Instalacja bibliotek\n",
    "Będziemy korzystać z różnych bibliotek, ich ilość na początku może być przytłaczająca, ale nie należy się tym przejmować. Z czasem oswoisz się z tym, że instaluje się ich tak wiele. W tym projekcie będziemy korzystać z:\n",
    "- tensorflow - sieci neuronowe\n",
    "- keras - api ułatwiające korzystanie z tensorflow\n",
    "- matplotlib - wykresy\n",
    "- padnas - zapisywanie, wyświetlanie i obsługa tabelek z danymi\n",
    "- numpy - operacje numeryczne\n",
    "- kaggle - obsługiwanie pobierania danych ze strony kaggle\n",
    "- opencv - przekształcanie obrazów np. do skali szarości\n",
    "\n",
    "Aby zainstalować wymienione bibioteki wpisz w anaconda propmt następujące komendy (pamiętaj, aby robić to z aktywnyn środowiskiem wirtualnym, które przed chwilą stworzyłeś):\n",
    "<div class=\"alert alert-block alert-success\" style=\"font-family: monospace\">\n",
    "    <b> Opcja 1 - instalacja poprzez użycie requirements.txt</b> <br>\n",
    "    pip install -r requirements.txt\n",
    "</div>\n",
    "\n",
    "<div class=\"alert alert-block alert-success\" style=\"font-family: monospace\">\n",
    "    <b> Opcja 2 - instalacja poszczególnych bibliotek</b> <br>\n",
    "    conda install tensorflow <br>\n",
    "    conda install keras <br>\n",
    "    conda install matplotlib <br>\n",
    "    conda install -c conda-forge matplotlib<br>\n",
    "    conda install numpy <br>\n",
    "    conda install -c menpo opencv\n",
    "</div>"
   ]
  },
  {
   "cell_type": "code",
   "execution_count": 1,
   "id": "ab898d73",
   "metadata": {
    "pycharm": {
     "is_executing": true
    }
   },
   "outputs": [],
   "source": [
    "import tensorflow as tf\n",
    "import keras"
   ]
  },
  {
   "cell_type": "code",
   "execution_count": 2,
   "id": "31969b2c",
   "metadata": {
    "pycharm": {
     "is_executing": true
    }
   },
   "outputs": [],
   "source": [
    "import matplotlib.pyplot as plt\n",
    "import pandas as pd"
   ]
  },
  {
   "cell_type": "code",
   "execution_count": 3,
   "id": "7928861e",
   "metadata": {},
   "outputs": [],
   "source": [
    "import cv2\n",
    "import numpy as np"
   ]
  },
  {
   "cell_type": "markdown",
   "id": "1372c0d2",
   "metadata": {},
   "source": [
    "### Nasz cel\n",
    "Będziemy korzystać ze zbioru CIFAR-10. Jest to zbiór zawierający obrazki o wymiarach 32 na 32 piksele, wraz z etykietami. Istnieje 10 różnych etykiet (stąd nazwa zbioru). Jest to jeden z najbardziej znanych zbiorów wykorzysytwanych do celów edukacyjnych. Będziemy przewidywać do której klasy należy dany obrazek.\n",
    "\n",
    "Dla sprawdzenia samego siebie możesz swoje predykcje przesłać do strony Kaggle i zobaczyć jaką pozycję uzyskasz w rankingu: https://www.kaggle.com/competitions/cifar-10\n",
    "\n",
    "Najprościej jednak będzie zaimportować ten zbiór z modułu tensorflow do którego jest dołączony."
   ]
  },
  {
   "cell_type": "markdown",
   "id": "17adfc31",
   "metadata": {},
   "source": [
    "# Sieć Neuronowa\n",
    "###  Pobranie i przygotowanie danych"
   ]
  },
  {
   "cell_type": "code",
   "execution_count": 4,
   "id": "bbe192e9",
   "metadata": {},
   "outputs": [],
   "source": [
    "(x_train, y_train), (x_test, y_test) = tf.keras.datasets.cifar10.load_data()"
   ]
  },
  {
   "cell_type": "code",
   "execution_count": 5,
   "id": "a9c09cff",
   "metadata": {},
   "outputs": [
    {
     "data": {
      "text/plain": [
       "(50000, 32, 32, 3)"
      ]
     },
     "execution_count": 5,
     "metadata": {},
     "output_type": "execute_result"
    }
   ],
   "source": [
    "x_train.shape"
   ]
  },
  {
   "cell_type": "code",
   "execution_count": 6,
   "id": "fbf8b07a",
   "metadata": {},
   "outputs": [],
   "source": [
    "# Wydzielanie zbioru walidacyjnego.\n",
    "y_train, y_valid = y_train[:40_000], y_train[40_000:]\n",
    "\n",
    "from tensorflow.keras.utils import to_categorical\n",
    "# One hot encoding.\n",
    "y_train = to_categorical(y_train, num_classes=10)\n",
    "y_valid = to_categorical(y_valid, num_classes=10)\n",
    "y_test = to_categorical(y_test, num_classes=10)\n",
    "\n",
    "# Podział obrazków na zbiór treningowy i walidacyjny. Przeskalowanie zbiorów.\n",
    "scaler = lambda data: np.float32(data / 255.0)\n",
    "x_train, x_valid, x_test = scaler(x_train[:40_000]), scaler(x_train[40_000:]), scaler(x_test)"
   ]
  },
  {
   "cell_type": "code",
   "execution_count": 7,
   "id": "1cc45c8a",
   "metadata": {},
   "outputs": [],
   "source": [
    "labels = ['airplane', 'automobile', 'bird', 'cat', 'deer', 'dog', 'frog', 'horse', 'ship', 'truck']\n",
    "\n",
    "# fig, ax = plt.subplots(1, 10, figsize=(25, 25))\n",
    "# for i in range(10):\n",
    "#      ax[i].imshow(x_train[i])\n",
    "#      ax[i].set_title(labels[int(y_train[i][0])], color='red', fontsize=22)\n",
    "#      ax[i].axis('off')"
   ]
  },
  {
   "cell_type": "code",
   "execution_count": 8,
   "id": "c0dc145f",
   "metadata": {},
   "outputs": [
    {
     "data": {
      "text/plain": [
       "(40000, 32, 32, 3)"
      ]
     },
     "execution_count": 8,
     "metadata": {},
     "output_type": "execute_result"
    }
   ],
   "source": [
    "x_train.shape"
   ]
  },
  {
   "cell_type": "markdown",
   "id": "3588e851",
   "metadata": {},
   "source": [
    "### Przekształcanie do skali szarości (redukcja liczby wymiarów)"
   ]
  },
  {
   "cell_type": "code",
   "execution_count": 11,
   "id": "ef802edc",
   "metadata": {},
   "outputs": [],
   "source": [
    "x_train = np.array([cv2.cvtColor(image, cv2.COLOR_BGR2GRAY) for image in x_train])\n",
    "x_valid = np.array([cv2.cvtColor(image, cv2.COLOR_BGR2GRAY) for image in x_valid])\n",
    "x_test = np.array([cv2.cvtColor(image, cv2.COLOR_BGR2GRAY) for image in x_test])"
   ]
  },
  {
   "cell_type": "markdown",
   "id": "20ece50e",
   "metadata": {},
   "source": [
    "Ilość wymiarów została zmniejszona. Zauważmy, że teraz krotka <b style=\"font-family: monospace\"> x_train.shape </b> ma tylko 3 wymiary a nie 4 jak poprzednio. Nie ma już wymiaru opisującego poszczególne kolory. Pozostały nam wymiary opisujące liczbę próbek (40000), oraz wysokość i szerokość obrazka (32)."
   ]
  },
  {
   "cell_type": "code",
   "execution_count": 10,
   "id": "e5a71ce5",
   "metadata": {},
   "outputs": [
    {
     "data": {
      "text/plain": [
       "(40000, 32, 32)"
      ]
     },
     "execution_count": 10,
     "metadata": {},
     "output_type": "execute_result"
    }
   ],
   "source": [
    "x_train.shape"
   ]
  },
  {
   "cell_type": "markdown",
   "id": "d4771323",
   "metadata": {},
   "source": [
    "Zobaczmy jak teraz prezentują się obrazki spłaszczone do jednego wymiaru."
   ]
  },
  {
   "cell_type": "code",
   "execution_count": null,
   "id": "1d5c7337",
   "metadata": {},
   "outputs": [],
   "source": [
    "for x in [x_train, x_test, x_valid]:\n",
    "    print(x.shape)\n",
    "\n",
    "for y in [y_train, y_test, y_valid]:\n",
    "    print(y.shape)"
   ]
  },
  {
   "cell_type": "code",
   "execution_count": 11,
   "id": "44b8f0d3",
   "metadata": {},
   "outputs": [],
   "source": [
    "# fig, ax = plt.subplots(1, 10, figsize=(25, 25))\n",
    "# for i in range(10):\n",
    "#      ax[i].imshow(x_train[i], cmap='gray')\n",
    "#      ax[i].set_title(labels[int(y_train[i][0])], color='red', fontsize=22)\n",
    "#      ax[i].axis('off')"
   ]
  },
  {
   "cell_type": "markdown",
   "id": "95d294bf",
   "metadata": {},
   "source": [
    "### Budowanie Sieci przy urzyciu interfejsu Sequential\n",
    "Wybrałem ten interejs ponieważ jest najprostszy w użyciu a nasz problem nie wymaga od nas tworzenia skomplikowanych struktur. W przyszłości na pewno zetkniesz się z interfejsem funkcyjnym, który pozwala na przykład zrobić kilka warst wejściowych do sieci.\n",
    "<div class=\"alert alert-block alert-info\">\n",
    "<b>Wskazówka</b> Na początek zaczynam od bardzo prostej sieci, żeby szybko sprawdzić jakie przynosi efekty...\n",
    "</div>\n"
   ]
  },
  {
   "cell_type": "code",
   "execution_count": 12,
   "id": "b4ecc822",
   "metadata": {},
   "outputs": [],
   "source": [
    "naive_model = keras.models.Sequential([\n",
    "    keras.layers.Flatten(input_shape=[32, 32, 1]),\n",
    "    keras.layers.Dense(30, activation=\"relu\"),\n",
    "    keras.layers.Dense(10, activation=\"softmax\")\n",
    "])"
   ]
  },
  {
   "cell_type": "markdown",
   "id": "12045cfb",
   "metadata": {},
   "source": [
    "- Warstwa <b><span style=\"color:red\">Flatten</span></b> zmienia wymiary danych wejściowych w 1D wektor\n",
    "- Warstwa <b><span style=\"color:red\">Dense</span></b> służy wyłapywaniu wzorców w obrazie\n",
    "- Ostatnia warstwa wykorzystuje funkcje aktywacyjną <b><span style=\"color:red\">softmax</span></b> aby suma wyników była równa 1. Wynika to z faktu, że przewidujemy przynależność do jednej z 10 klas."
   ]
  },
  {
   "cell_type": "code",
   "execution_count": 13,
   "id": "c406e319",
   "metadata": {},
   "outputs": [
    {
     "name": "stdout",
     "output_type": "stream",
     "text": [
      "Model: \"sequential\"\n",
      "_________________________________________________________________\n",
      " Layer (type)                Output Shape              Param #   \n",
      "=================================================================\n",
      " flatten (Flatten)           (None, 1024)              0         \n",
      "                                                                 \n",
      " dense (Dense)               (None, 30)                30750     \n",
      "                                                                 \n",
      " dense_1 (Dense)             (None, 10)                310       \n",
      "                                                                 \n",
      "=================================================================\n",
      "Total params: 31,060\n",
      "Trainable params: 31,060\n",
      "Non-trainable params: 0\n",
      "_________________________________________________________________\n"
     ]
    }
   ],
   "source": [
    "naive_model.summary()"
   ]
  },
  {
   "cell_type": "code",
   "execution_count": 14,
   "id": "841359e7",
   "metadata": {},
   "outputs": [],
   "source": [
    "naive_model.compile(optimizer='sgd',\n",
    "              loss=tf.keras.losses.categorical_crossentropy,\n",
    "              metrics=['accuracy'])"
   ]
  },
  {
   "cell_type": "markdown",
   "id": "01b1b7bb",
   "metadata": {},
   "source": [
    "Podczas kompilacji określamy takie parametry jak:\n",
    "- optymalizator, ja skorzystałem tutaj z omawianego na wcześniejszych prezentacjach Stochastycznego Gradientu Prostego. Istnieje jednak jeszcze wiele innych optymalizatorów\n",
    "- loss (funcka straty)\n",
    "- metryki, którymi będziemy oceniać nasz model"
   ]
  },
  {
   "cell_type": "code",
   "execution_count": 15,
   "id": "9331ceb2",
   "metadata": {},
   "outputs": [
    {
     "name": "stdout",
     "output_type": "stream",
     "text": [
      "Epoch 1/3\n",
      "1250/1250 [==============================] - 4s 2ms/step - loss: 2.1612 - accuracy: 0.2085 - val_loss: 2.0763 - val_accuracy: 0.2441\n",
      "Epoch 2/3\n",
      "1250/1250 [==============================] - 3s 2ms/step - loss: 2.0438 - accuracy: 0.2709 - val_loss: 2.0193 - val_accuracy: 0.2837\n",
      "Epoch 3/3\n",
      "1250/1250 [==============================] - 3s 2ms/step - loss: 1.9924 - accuracy: 0.2950 - val_loss: 1.9806 - val_accuracy: 0.3030\n"
     ]
    }
   ],
   "source": [
    "history = naive_model.fit(x_train,\n",
    "                    y_train,\n",
    "                    epochs=3,\n",
    "                    batch_size=32,\n",
    "                    validation_data=(x_valid, y_valid))"
   ]
  },
  {
   "cell_type": "code",
   "execution_count": 30,
   "id": "fcc8514e",
   "metadata": {},
   "outputs": [],
   "source": [
    "df = pd.DataFrame.from_dict(history.history)\n",
    "df.to_csv('naive_model.csv')"
   ]
  },
  {
   "cell_type": "code",
   "execution_count": 18,
   "id": "5bd49ad6",
   "metadata": {},
   "outputs": [],
   "source": [
    "# df.plot()"
   ]
  },
  {
   "cell_type": "code",
   "execution_count": 20,
   "id": "7fd3a5fc",
   "metadata": {},
   "outputs": [
    {
     "name": "stdout",
     "output_type": "stream",
     "text": [
      "313/313 [==============================] - 0s 1ms/step - loss: 1.9801 - accuracy: 0.3084\n"
     ]
    },
    {
     "data": {
      "text/plain": [
       "[1.980126142501831, 0.3084000051021576]"
      ]
     },
     "execution_count": 20,
     "metadata": {},
     "output_type": "execute_result"
    }
   ],
   "source": [
    "naive_model.evaluate(x_test, y_test)"
   ]
  },
  {
   "attachments": {
    "efficiency.png": {
     "image/png": "[encoded data removed]"
    }
   },
   "cell_type": "markdown",
   "id": "875c42ec",
   "metadata": {},
   "source": [
    "Jak widzimy nasz model nie radzi sobie najlepiej. Jego dokładność dla zbioru walidacyjnego to zaledwie 30%, pomimo, prostoty zadania. Wynika to z tego, że sieć jest bardzo prosta i nie jest w stanie wyłapać wzorców pozwalających na rozpoznawanie obrazów odpowiednio dostosowując swoje wagi. Inaczej mówiąc jest <b><span style=\"color:red\">niedotrenowana.</span></b>\n",
    "\n",
    "Rozwiązanie w tym przypadku jest dość proste:\n",
    "- Dodamy kolejne warstwy\n",
    "- Zwiększymy liczbę neuronów\n",
    "- Będziemy trenować przez większą liczbę epok\n",
    "- Możemy zmienić hiperparametry modelu\n",
    "\n",
    "![efficiency.png](attachment:efficiency.png)\n"
   ]
  },
  {
   "cell_type": "markdown",
   "id": "ce8a9982",
   "metadata": {},
   "source": [
    "### Przetrenowany model\n",
    "Dodanie większej liczby warst oraz dłuższe szkolenie wcale nie musi zagwarantować sukcesu. Problem niedotrenowania zmienimy na problem <b><span style=\"color:red\">przetrenowania</span></b> modelu. Możemy to poznać po tym, że wynik dokładności (accuracy) dla zbioru walidacyjnego różni się znacznie od dokładności dla zbioru treningowego. Zobaczmy..."
   ]
  },
  {
   "cell_type": "code",
   "execution_count": 31,
   "id": "9da2881d",
   "metadata": {},
   "outputs": [],
   "source": [
    "better_model = keras.models.Sequential([\n",
    "    keras.layers.Flatten(input_shape=[32, 32, 1]),\n",
    "    keras.layers.Dense(100, activation=\"relu\"),\n",
    "    keras.layers.Dense(200, activation=\"relu\"),\n",
    "    keras.layers.Dense(200, activation=\"relu\"),\n",
    "    keras.layers.Dense(400, activation=\"relu\"),\n",
    "    keras.layers.Dense(50, activation=\"relu\"),\n",
    "    keras.layers.Dense(10, activation=\"softmax\")\n",
    "])"
   ]
  },
  {
   "cell_type": "code",
   "execution_count": 32,
   "id": "e3a94acc",
   "metadata": {},
   "outputs": [
    {
     "name": "stdout",
     "output_type": "stream",
     "text": [
      "Model: \"sequential_2\"\n",
      "_________________________________________________________________\n",
      " Layer (type)                Output Shape              Param #   \n",
      "=================================================================\n",
      " flatten_2 (Flatten)         (None, 1024)              0         \n",
      "                                                                 \n",
      " dense_7 (Dense)             (None, 100)               102500    \n",
      "                                                                 \n",
      " dense_8 (Dense)             (None, 200)               20200     \n",
      "                                                                 \n",
      " dense_9 (Dense)             (None, 200)               40200     \n",
      "                                                                 \n",
      " dense_10 (Dense)            (None, 400)               80400     \n",
      "                                                                 \n",
      " dense_11 (Dense)            (None, 50)                20050     \n",
      "                                                                 \n",
      " dense_12 (Dense)            (None, 10)                510       \n",
      "                                                                 \n",
      "=================================================================\n",
      "Total params: 263,860\n",
      "Trainable params: 263,860\n",
      "Non-trainable params: 0\n",
      "_________________________________________________________________\n"
     ]
    }
   ],
   "source": [
    "better_model.summary()"
   ]
  },
  {
   "cell_type": "code",
   "execution_count": 33,
   "id": "c69f71af",
   "metadata": {},
   "outputs": [],
   "source": [
    "better_model.compile(optimizer=tf.keras.optimizers.Adam(),\n",
    "              loss=tf.keras.losses.categorical_crossentropy,\n",
    "              metrics=['accuracy'])"
   ]
  },
  {
   "cell_type": "code",
   "execution_count": 37,
   "id": "9f179197",
   "metadata": {
    "scrolled": true
   },
   "outputs": [
    {
     "name": "stdout",
     "output_type": "stream",
     "text": [
      "Epoch 1/40\n",
      "625/625 [==============================] - 3s 5ms/step - loss: 1.3555 - accuracy: 0.5145 - val_loss: 1.7415 - val_accuracy: 0.4114\n",
      "Epoch 2/40\n",
      "625/625 [==============================] - 3s 5ms/step - loss: 1.3172 - accuracy: 0.5261 - val_loss: 1.8105 - val_accuracy: 0.4050\n",
      "Epoch 3/40\n",
      "625/625 [==============================] - 3s 5ms/step - loss: 1.2871 - accuracy: 0.5393 - val_loss: 1.8241 - val_accuracy: 0.3989\n",
      "Epoch 4/40\n",
      "625/625 [==============================] - 3s 5ms/step - loss: 1.2600 - accuracy: 0.5487 - val_loss: 1.8410 - val_accuracy: 0.4050\n",
      "Epoch 5/40\n",
      "625/625 [==============================] - 3s 5ms/step - loss: 1.2307 - accuracy: 0.5586 - val_loss: 1.8445 - val_accuracy: 0.3962\n",
      "Epoch 6/40\n",
      "625/625 [==============================] - 4s 6ms/step - loss: 1.1960 - accuracy: 0.5689 - val_loss: 1.9035 - val_accuracy: 0.4066\n",
      "Epoch 7/40\n",
      "625/625 [==============================] - 3s 5ms/step - loss: 1.1559 - accuracy: 0.5874 - val_loss: 1.9156 - val_accuracy: 0.3973\n",
      "Epoch 8/40\n",
      "625/625 [==============================] - 4s 7ms/step - loss: 1.1302 - accuracy: 0.5941 - val_loss: 1.9506 - val_accuracy: 0.3996\n",
      "Epoch 9/40\n",
      "625/625 [==============================] - 5s 7ms/step - loss: 1.1005 - accuracy: 0.6037 - val_loss: 1.9948 - val_accuracy: 0.3980\n",
      "Epoch 10/40\n",
      "625/625 [==============================] - 3s 5ms/step - loss: 1.0633 - accuracy: 0.6170 - val_loss: 2.0874 - val_accuracy: 0.3959\n",
      "Epoch 11/40\n",
      "625/625 [==============================] - 3s 5ms/step - loss: 1.0387 - accuracy: 0.6267 - val_loss: 2.1285 - val_accuracy: 0.3888\n",
      "Epoch 12/40\n",
      "625/625 [==============================] - 3s 5ms/step - loss: 1.0114 - accuracy: 0.6359 - val_loss: 2.1560 - val_accuracy: 0.3930\n",
      "Epoch 13/40\n",
      "625/625 [==============================] - 3s 5ms/step - loss: 0.9719 - accuracy: 0.6508 - val_loss: 2.1972 - val_accuracy: 0.3923\n",
      "Epoch 14/40\n",
      "625/625 [==============================] - 3s 5ms/step - loss: 0.9420 - accuracy: 0.6625 - val_loss: 2.2989 - val_accuracy: 0.3913\n",
      "Epoch 15/40\n",
      "625/625 [==============================] - 3s 5ms/step - loss: 0.9079 - accuracy: 0.6695 - val_loss: 2.4120 - val_accuracy: 0.3881\n",
      "Epoch 16/40\n",
      "625/625 [==============================] - 3s 5ms/step - loss: 0.8929 - accuracy: 0.6775 - val_loss: 2.4147 - val_accuracy: 0.3913\n",
      "Epoch 17/40\n",
      "625/625 [==============================] - 3s 5ms/step - loss: 0.8611 - accuracy: 0.6898 - val_loss: 2.4819 - val_accuracy: 0.3748\n",
      "Epoch 18/40\n",
      "625/625 [==============================] - 3s 5ms/step - loss: 0.8304 - accuracy: 0.7011 - val_loss: 2.6137 - val_accuracy: 0.3771\n",
      "Epoch 19/40\n",
      "625/625 [==============================] - 3s 5ms/step - loss: 0.8062 - accuracy: 0.7092 - val_loss: 2.5836 - val_accuracy: 0.3812\n",
      "Epoch 20/40\n",
      "625/625 [==============================] - 3s 5ms/step - loss: 0.7851 - accuracy: 0.7153 - val_loss: 2.6546 - val_accuracy: 0.3809\n",
      "Epoch 21/40\n",
      "625/625 [==============================] - 3s 5ms/step - loss: 0.7678 - accuracy: 0.7222 - val_loss: 2.8948 - val_accuracy: 0.3751\n",
      "Epoch 22/40\n",
      "625/625 [==============================] - 3s 5ms/step - loss: 0.7509 - accuracy: 0.7272 - val_loss: 2.8340 - val_accuracy: 0.3819\n",
      "Epoch 23/40\n",
      "625/625 [==============================] - 3s 5ms/step - loss: 0.7151 - accuracy: 0.7410 - val_loss: 3.0524 - val_accuracy: 0.3708\n",
      "Epoch 24/40\n",
      "625/625 [==============================] - 3s 5ms/step - loss: 0.6958 - accuracy: 0.7483 - val_loss: 2.9744 - val_accuracy: 0.3727\n",
      "Epoch 25/40\n",
      "625/625 [==============================] - 3s 5ms/step - loss: 0.6843 - accuracy: 0.7534 - val_loss: 3.1309 - val_accuracy: 0.3750\n",
      "Epoch 26/40\n",
      "625/625 [==============================] - 3s 5ms/step - loss: 0.6775 - accuracy: 0.7563 - val_loss: 3.2728 - val_accuracy: 0.3616\n",
      "Epoch 27/40\n",
      "625/625 [==============================] - 3s 5ms/step - loss: 0.6595 - accuracy: 0.7639 - val_loss: 3.1839 - val_accuracy: 0.3682\n",
      "Epoch 28/40\n",
      "625/625 [==============================] - 3s 6ms/step - loss: 0.6208 - accuracy: 0.7791 - val_loss: 3.4151 - val_accuracy: 0.3696\n",
      "Epoch 29/40\n",
      "625/625 [==============================] - 3s 5ms/step - loss: 0.6134 - accuracy: 0.7784 - val_loss: 3.3891 - val_accuracy: 0.3730\n",
      "Epoch 30/40\n",
      "625/625 [==============================] - 3s 5ms/step - loss: 0.6016 - accuracy: 0.7820 - val_loss: 3.5208 - val_accuracy: 0.3663\n",
      "Epoch 31/40\n",
      "625/625 [==============================] - 3s 5ms/step - loss: 0.5835 - accuracy: 0.7901 - val_loss: 3.5905 - val_accuracy: 0.3690\n",
      "Epoch 32/40\n",
      "625/625 [==============================] - 3s 5ms/step - loss: 0.5816 - accuracy: 0.7917 - val_loss: 3.5327 - val_accuracy: 0.3642\n",
      "Epoch 33/40\n",
      "625/625 [==============================] - 3s 5ms/step - loss: 0.5680 - accuracy: 0.7976 - val_loss: 3.6498 - val_accuracy: 0.3667\n",
      "Epoch 34/40\n",
      "625/625 [==============================] - 4s 6ms/step - loss: 0.5447 - accuracy: 0.8031 - val_loss: 3.8739 - val_accuracy: 0.3749\n",
      "Epoch 35/40\n",
      "625/625 [==============================] - 3s 6ms/step - loss: 0.5495 - accuracy: 0.8058 - val_loss: 3.8253 - val_accuracy: 0.3653\n",
      "Epoch 36/40\n",
      "625/625 [==============================] - 4s 6ms/step - loss: 0.5339 - accuracy: 0.8082 - val_loss: 3.9193 - val_accuracy: 0.3663\n",
      "Epoch 37/40\n",
      "625/625 [==============================] - 4s 6ms/step - loss: 0.5163 - accuracy: 0.8157 - val_loss: 4.0127 - val_accuracy: 0.3666\n",
      "Epoch 38/40\n",
      "625/625 [==============================] - 4s 6ms/step - loss: 0.5072 - accuracy: 0.8178 - val_loss: 4.1286 - val_accuracy: 0.3612\n",
      "Epoch 39/40\n",
      "625/625 [==============================] - 4s 6ms/step - loss: 0.5145 - accuracy: 0.8165 - val_loss: 4.0179 - val_accuracy: 0.3665\n",
      "Epoch 40/40\n",
      "625/625 [==============================] - 4s 6ms/step - loss: 0.5136 - accuracy: 0.8162 - val_loss: 3.9870 - val_accuracy: 0.3667\n"
     ]
    }
   ],
   "source": [
    "history = better_model.fit(x_train,\n",
    "                    y_train,\n",
    "                    epochs=40,\n",
    "                    batch_size=64,\n",
    "                    validation_data=(x_valid, y_valid))"
   ]
  },
  {
   "cell_type": "code",
   "execution_count": 35,
   "id": "02400edf",
   "metadata": {},
   "outputs": [
    {
     "name": "stdout",
     "output_type": "stream",
     "text": [
      "313/313 [==============================] - 1s 2ms/step - loss: 1.7778 - accuracy: 0.4089\n"
     ]
    },
    {
     "data": {
      "text/plain": [
       "[1.7778316736221313, 0.4088999927043915]"
      ]
     },
     "execution_count": 35,
     "metadata": {},
     "output_type": "execute_result"
    }
   ],
   "source": [
    "better_model.evaluate(x_test, y_test)"
   ]
  },
  {
   "attachments": {
    "Screenshot%202023-02-15%20100610.png": {
     "image/png": "[encoded data removed]"
    }
   },
   "cell_type": "markdown",
   "id": "f2139eb4",
   "metadata": {},
   "source": [
    "![Screenshot%202023-02-15%20100610.png](attachment:Screenshot%202023-02-15%20100610.png)"
   ]
  },
  {
   "cell_type": "code",
   "execution_count": 38,
   "id": "93d49d5f",
   "metadata": {},
   "outputs": [],
   "source": [
    "df = pd.DataFrame.from_dict(history.history)\n",
    "df.to_csv('better_model.csv')"
   ]
  },
  {
   "cell_type": "markdown",
   "id": "df9740e4",
   "metadata": {},
   "source": [
    "### Siec Konwolucyjna\n",
    "Jedną z możliwości będzie tutaj zastosowanie Sieci Konwolucyjnej. Samo jej zastosowanie nie gwarantuje jednak sukcesu. Oczywiście wyniki się poprawią, ale nadal model ulegnie przetrenowaniu."
   ]
  },
  {
   "cell_type": "code",
   "execution_count": 39,
   "id": "93ea3db5",
   "metadata": {},
   "outputs": [],
   "source": [
    "cnn = keras.models.Sequential([\n",
    "    keras.layers.Conv2D(filters=10, kernel_size=(4, 4), input_shape=[32, 32, 1], activation='relu'),\n",
    "    keras.layers.Flatten(input_shape=[32, 32, 1]),\n",
    "    keras.layers.Dense(200, activation=\"relu\"),\n",
    "    keras.layers.Dense(50, activation=\"relu\"),\n",
    "    keras.layers.Dense(10, activation=\"softmax\")\n",
    "])\n",
    "\n",
    "cnn.compile(optimizer=tf.keras.optimizers.Adam(),\n",
    "              loss=tf.keras.losses.categorical_crossentropy,\n",
    "              metrics=['accuracy'])"
   ]
  },
  {
   "cell_type": "code",
   "execution_count": 40,
   "id": "0cb9dae4",
   "metadata": {},
   "outputs": [
    {
     "name": "stdout",
     "output_type": "stream",
     "text": [
      "Epoch 1/20\n",
      "1250/1250 [==============================] - 20s 16ms/step - loss: 1.6799 - accuracy: 0.3961 - val_loss: 1.5313 - val_accuracy: 0.4622\n",
      "Epoch 2/20\n",
      "1250/1250 [==============================] - 19s 15ms/step - loss: 1.3666 - accuracy: 0.5179 - val_loss: 1.3708 - val_accuracy: 0.5204\n",
      "Epoch 3/20\n",
      "1250/1250 [==============================] - 19s 15ms/step - loss: 1.1841 - accuracy: 0.5834 - val_loss: 1.3277 - val_accuracy: 0.5436\n",
      "Epoch 4/20\n",
      "1250/1250 [==============================] - 19s 16ms/step - loss: 1.0302 - accuracy: 0.6413 - val_loss: 1.3144 - val_accuracy: 0.5423\n",
      "Epoch 5/20\n",
      "1250/1250 [==============================] - 20s 16ms/step - loss: 0.8689 - accuracy: 0.6973 - val_loss: 1.3086 - val_accuracy: 0.5635\n",
      "Epoch 6/20\n",
      "1250/1250 [==============================] - 19s 15ms/step - loss: 0.7187 - accuracy: 0.7517 - val_loss: 1.4170 - val_accuracy: 0.5639\n",
      "Epoch 7/20\n",
      "1250/1250 [==============================] - 19s 15ms/step - loss: 0.5744 - accuracy: 0.8059 - val_loss: 1.5293 - val_accuracy: 0.5649\n",
      "Epoch 8/20\n",
      "1250/1250 [==============================] - 19s 16ms/step - loss: 0.4503 - accuracy: 0.8485 - val_loss: 1.6959 - val_accuracy: 0.5561\n",
      "Epoch 9/20\n",
      "1250/1250 [==============================] - 22s 18ms/step - loss: 0.3361 - accuracy: 0.8888 - val_loss: 1.9031 - val_accuracy: 0.5424\n",
      "Epoch 10/20\n",
      "1250/1250 [==============================] - 20s 16ms/step - loss: 0.2522 - accuracy: 0.9162 - val_loss: 2.1190 - val_accuracy: 0.5472\n",
      "Epoch 11/20\n",
      "1250/1250 [==============================] - 22s 17ms/step - loss: 0.1920 - accuracy: 0.9370 - val_loss: 2.4433 - val_accuracy: 0.5386\n",
      "Epoch 12/20\n",
      "1250/1250 [==============================] - 24s 20ms/step - loss: 0.1481 - accuracy: 0.9520 - val_loss: 2.5782 - val_accuracy: 0.5288\n",
      "Epoch 13/20\n",
      "1250/1250 [==============================] - 29s 23ms/step - loss: 0.1282 - accuracy: 0.9582 - val_loss: 2.9146 - val_accuracy: 0.5350\n",
      "Epoch 14/20\n",
      "1250/1250 [==============================] - 35s 28ms/step - loss: 0.1105 - accuracy: 0.9640 - val_loss: 3.0403 - val_accuracy: 0.5357\n",
      "Epoch 15/20\n",
      "1250/1250 [==============================] - 23s 18ms/step - loss: 0.0940 - accuracy: 0.9702 - val_loss: 3.1771 - val_accuracy: 0.5419\n",
      "Epoch 16/20\n",
      "1250/1250 [==============================] - 20s 16ms/step - loss: 0.0935 - accuracy: 0.9702 - val_loss: 3.3457 - val_accuracy: 0.5307\n",
      "Epoch 17/20\n",
      "1250/1250 [==============================] - 20s 16ms/step - loss: 0.0903 - accuracy: 0.9711 - val_loss: 3.5573 - val_accuracy: 0.5260\n",
      "Epoch 18/20\n",
      "1250/1250 [==============================] - 20s 16ms/step - loss: 0.0811 - accuracy: 0.9737 - val_loss: 3.6381 - val_accuracy: 0.5313\n",
      "Epoch 19/20\n",
      "1250/1250 [==============================] - 19s 15ms/step - loss: 0.0718 - accuracy: 0.9772 - val_loss: 3.8038 - val_accuracy: 0.5333\n",
      "Epoch 20/20\n",
      "1250/1250 [==============================] - 20s 16ms/step - loss: 0.0652 - accuracy: 0.9791 - val_loss: 3.9533 - val_accuracy: 0.5199\n"
     ]
    }
   ],
   "source": [
    "history = cnn.fit(x_train,\n",
    "                    y_train,\n",
    "                    epochs=20,\n",
    "                    batch_size=32,\n",
    "                    validation_data=(x_valid, y_valid))"
   ]
  },
  {
   "cell_type": "code",
   "execution_count": 41,
   "id": "64c1d6f8",
   "metadata": {},
   "outputs": [],
   "source": [
    "pd.DataFrame.from_dict(history.history).to_csv('cnn.csv')"
   ]
  },
  {
   "cell_type": "markdown",
   "id": "0a032034",
   "metadata": {},
   "source": [
    "### Kolejny model..."
   ]
  },
  {
   "cell_type": "code",
   "execution_count": 42,
   "id": "23454fcd",
   "metadata": {},
   "outputs": [],
   "source": [
    "final = keras.models.Sequential([\n",
    "    keras.layers.Conv2D(filters=32, kernel_size=(3, 3), input_shape=[32, 32, 1], activation='relu', padding='same'),\n",
    "    keras.layers.Dropout(0.3),\n",
    "    keras.layers.BatchNormalization(),\n",
    "    \n",
    "    keras.layers.Conv2D(filters=64, kernel_size=(2, 2), input_shape=[32, 32, 1], activation='relu', padding='same'),\n",
    "    keras.layers.Dropout(0.3),\n",
    "    keras.layers.BatchNormalization(),\n",
    "    \n",
    "    keras.layers.Flatten(input_shape=[32, 32, 1]),\n",
    "    keras.layers.BatchNormalization(),\n",
    "    keras.layers.Dense(128, activation=\"relu\"),\n",
    "    keras.layers.BatchNormalization(),\n",
    "    keras.layers.Dense(64, activation=\"relu\"),\n",
    "    keras.layers.BatchNormalization(),\n",
    "    keras.layers.Dense(10, activation=\"softmax\")\n",
    "])"
   ]
  },
  {
   "cell_type": "code",
   "execution_count": 43,
   "id": "678e1df6",
   "metadata": {},
   "outputs": [],
   "source": [
    "final.compile(optimizer=tf.keras.optimizers.Adam(),\n",
    "              loss=tf.keras.losses.categorical_crossentropy,\n",
    "              metrics=['accuracy'])"
   ]
  },
  {
   "cell_type": "code",
   "execution_count": 44,
   "id": "3f4447dd",
   "metadata": {},
   "outputs": [
    {
     "name": "stdout",
     "output_type": "stream",
     "text": [
      "Model: \"sequential_4\"\n",
      "_________________________________________________________________\n",
      " Layer (type)                Output Shape              Param #   \n",
      "=================================================================\n",
      " conv2d_1 (Conv2D)           (None, 32, 32, 32)        320       \n",
      "                                                                 \n",
      " dropout (Dropout)           (None, 32, 32, 32)        0         \n",
      "                                                                 \n",
      " batch_normalization (BatchN  (None, 32, 32, 32)       128       \n",
      " ormalization)                                                   \n",
      "                                                                 \n",
      " conv2d_2 (Conv2D)           (None, 32, 32, 64)        8256      \n",
      "                                                                 \n",
      " dropout_1 (Dropout)         (None, 32, 32, 64)        0         \n",
      "                                                                 \n",
      " batch_normalization_1 (Batc  (None, 32, 32, 64)       256       \n",
      " hNormalization)                                                 \n",
      "                                                                 \n",
      " flatten_4 (Flatten)         (None, 65536)             0         \n",
      "                                                                 \n",
      " batch_normalization_2 (Batc  (None, 65536)            262144    \n",
      " hNormalization)                                                 \n",
      "                                                                 \n",
      " dense_16 (Dense)            (None, 128)               8388736   \n",
      "                                                                 \n",
      " batch_normalization_3 (Batc  (None, 128)              512       \n",
      " hNormalization)                                                 \n",
      "                                                                 \n",
      " dense_17 (Dense)            (None, 64)                8256      \n",
      "                                                                 \n",
      " batch_normalization_4 (Batc  (None, 64)               256       \n",
      " hNormalization)                                                 \n",
      "                                                                 \n",
      " dense_18 (Dense)            (None, 10)                650       \n",
      "                                                                 \n",
      "=================================================================\n",
      "Total params: 8,669,514\n",
      "Trainable params: 8,537,866\n",
      "Non-trainable params: 131,648\n",
      "_________________________________________________________________\n"
     ]
    }
   ],
   "source": [
    "final.summary()"
   ]
  },
  {
   "cell_type": "code",
   "execution_count": 48,
   "id": "f1987411",
   "metadata": {},
   "outputs": [
    {
     "name": "stdout",
     "output_type": "stream",
     "text": [
      "Epoch 1/50\n",
      "1250/1250 [==============================] - 19s 15ms/step - loss: 0.0589 - accuracy: 0.9806 - val_loss: 4.4962 - val_accuracy: 0.5188\n",
      "Epoch 2/50\n",
      "1250/1250 [==============================] - 18s 15ms/step - loss: 0.0621 - accuracy: 0.9805 - val_loss: 4.4704 - val_accuracy: 0.5392\n",
      "Epoch 3/50\n",
      "1250/1250 [==============================] - 19s 15ms/step - loss: 0.0535 - accuracy: 0.9833 - val_loss: 4.4815 - val_accuracy: 0.5288\n",
      "Epoch 4/50\n",
      "1250/1250 [==============================] - 19s 15ms/step - loss: 0.0540 - accuracy: 0.9829 - val_loss: 4.6233 - val_accuracy: 0.5251\n",
      "Epoch 5/50\n",
      "1250/1250 [==============================] - 18s 15ms/step - loss: 0.0426 - accuracy: 0.9861 - val_loss: 4.7080 - val_accuracy: 0.5307\n",
      "Epoch 6/50\n",
      "1250/1250 [==============================] - 18s 15ms/step - loss: 0.0520 - accuracy: 0.9840 - val_loss: 4.6577 - val_accuracy: 0.5313\n"
     ]
    }
   ],
   "source": [
    "checkpoint = keras.callbacks.ModelCheckpoint(\"final_model.h5\", save_best_only=True)\n",
    "early_stop = keras.callbacks.EarlyStopping(monitor='val_loss', patience=4)\n",
    "\n",
    "final_history = cnn.fit(x_train, y_train, epochs=50, validation_data=(x_valid, y_valid),\n",
    "                        callbacks=[checkpoint, early_stop])"
   ]
  },
  {
   "cell_type": "code",
   "execution_count": 47,
   "id": "4affc785",
   "metadata": {},
   "outputs": [],
   "source": [
    "pd.DataFrame.from_dict(final_history.history).to_csv('final.csv')"
   ]
  },
  {
   "cell_type": "code",
   "execution_count": 10,
   "id": "b2c244a8",
   "metadata": {},
   "outputs": [
    {
     "data": {
      "text/plain": [
       "(40000, 32, 32, 3)"
      ]
     },
     "execution_count": 10,
     "metadata": {},
     "output_type": "execute_result"
    }
   ],
   "source": [
    "x_train.shape"
   ]
  },
  {
   "cell_type": "code",
   "execution_count": 13,
   "id": "c2b58056",
   "metadata": {},
   "outputs": [
    {
     "name": "stdout",
     "output_type": "stream",
     "text": [
      "Epoch 1/50\n",
      "1250/1250 [==============================] - 301s 239ms/step - loss: 2.3029 - accuracy: 0.0992 - val_loss: 2.3026 - val_accuracy: 0.1014\n",
      "Epoch 2/50\n",
      "1250/1250 [==============================] - 297s 237ms/step - loss: 2.3028 - accuracy: 0.0972 - val_loss: 2.3028 - val_accuracy: 0.0952\n",
      "Epoch 3/50\n",
      "1250/1250 [==============================] - 297s 238ms/step - loss: 2.3028 - accuracy: 0.0991 - val_loss: 2.3028 - val_accuracy: 0.0952\n",
      "Epoch 4/50\n",
      "1250/1250 [==============================] - 282s 225ms/step - loss: 2.3027 - accuracy: 0.0993 - val_loss: 2.3030 - val_accuracy: 0.0977\n",
      "Epoch 5/50\n",
      "1250/1250 [==============================] - 273s 218ms/step - loss: 2.3028 - accuracy: 0.0995 - val_loss: 2.3026 - val_accuracy: 0.0977\n",
      "Epoch 6/50\n",
      "1250/1250 [==============================] - 280s 224ms/step - loss: 2.3028 - accuracy: 0.0961 - val_loss: 2.3027 - val_accuracy: 0.0952\n",
      "Epoch 7/50\n",
      "1250/1250 [==============================] - 276s 221ms/step - loss: 2.3028 - accuracy: 0.0996 - val_loss: 2.3027 - val_accuracy: 0.0980\n",
      "Epoch 8/50\n",
      "1250/1250 [==============================] - 273s 218ms/step - loss: 2.3028 - accuracy: 0.0959 - val_loss: 2.3028 - val_accuracy: 0.0977\n",
      "Epoch 9/50\n",
      "1250/1250 [==============================] - 269s 215ms/step - loss: 2.3028 - accuracy: 0.0998 - val_loss: 2.3029 - val_accuracy: 0.0952\n"
     ]
    }
   ],
   "source": [
    "from functools import partial\n",
    "\n",
    "DefaultConv2D = partial(keras.layers.Conv2D,\n",
    "                        kernel_size=3, activation='relu', padding=\"SAME\")\n",
    "\n",
    "model = keras.models.Sequential([\n",
    "    DefaultConv2D(filters=64, kernel_size=7, input_shape=[32,32, 1]),\n",
    "    keras.layers.MaxPooling2D(pool_size=2),\n",
    "    DefaultConv2D(filters=128),\n",
    "    DefaultConv2D(filters=128),\n",
    "    keras.layers.MaxPooling2D(pool_size=2),\n",
    "    DefaultConv2D(filters=256),\n",
    "    DefaultConv2D(filters=256),\n",
    "    keras.layers.MaxPooling2D(pool_size=2),\n",
    "    keras.layers.Flatten(),\n",
    "    keras.layers.Dense(units=128, activation='relu'),\n",
    "    keras.layers.Dropout(0.5),\n",
    "    keras.layers.Dense(units=64, activation='relu'),\n",
    "    keras.layers.Dropout(0.5),\n",
    "    keras.layers.Dense(units=10, activation='softmax'),\n",
    "])\n",
    "\n",
    "model.compile(loss=tf.keras.losses.categorical_crossentropy, optimizer=\"nadam\", metrics=[\"accuracy\"])\n",
    "\n",
    "checkpoint = keras.callbacks.ModelCheckpoint(\"final_model.h5\", save_best_only=True)\n",
    "early_stop = keras.callbacks.EarlyStopping(monitor='val_loss', patience=4)\n",
    "final_history = model.fit(x_train, y_train, epochs=50, validation_data=(x_valid, y_valid),\n",
    "                        callbacks=[checkpoint, early_stop])"
   ]
  },
  {
   "cell_type": "code",
   "execution_count": null,
   "id": "aff06d33",
   "metadata": {},
   "outputs": [],
   "source": []
  },
  {
   "cell_type": "code",
   "execution_count": null,
   "id": "84dedccc",
   "metadata": {},
   "outputs": [],
   "source": []
  },
  {
   "cell_type": "code",
   "execution_count": null,
   "id": "eab0d02f",
   "metadata": {},
   "outputs": [],
   "source": []
  },
  {
   "cell_type": "code",
   "execution_count": null,
   "id": "36807d30",
   "metadata": {},
   "outputs": [],
   "source": []
  },
  {
   "cell_type": "code",
   "execution_count": null,
   "id": "0016b0df",
   "metadata": {},
   "outputs": [],
   "source": []
  },
  {
   "cell_type": "code",
   "execution_count": null,
   "id": "2c62afb3",
   "metadata": {},
   "outputs": [],
   "source": []
  },
  {
   "cell_type": "code",
   "execution_count": null,
   "id": "63832c2d",
   "metadata": {},
   "outputs": [],
   "source": []
  },
  {
   "cell_type": "code",
   "execution_count": null,
   "id": "30c0e3ae",
   "metadata": {},
   "outputs": [],
   "source": []
  },
  {
   "cell_type": "markdown",
   "id": "a0422ff3",
   "metadata": {},
   "source": [
    "### Co można zrobić dalej?\n",
    "- Macierz pomyłek (Confusion Matrix)\n",
    "- Dostrajanie sieci\n",
    "- Wizualiazacja sieci\n",
    "- Inne metryki wydajności np. ,,Recall\""
   ]
  },
  {
   "cell_type": "markdown",
   "id": "89bb5786",
   "metadata": {},
   "source": [
    "# Wizualizacja sieci\n",
    "### Visual Keras\n",
    "https://github.com/paulgavrikov/visualkeras/\n",
    "\n",
    "### Dotnets\n",
    "https://github.com/martisak/dotnets\n",
    "\n",
    "### How to Draw a Neural Network Diagram?\n",
    "https://www.edrawsoft.com/article/how-to-draw-neural-network-diagram.html"
   ]
  },
  {
   "cell_type": "markdown",
   "id": "abefc46d",
   "metadata": {},
   "source": [
    "# Rozwiązywanie ewentualnych błędów\n",
    "### Instalacja ipykernel\n",
    "<div class=\"alert alert-block alert-danger\" style=\"font-family: monospace\">\n",
    "anaconda3\\\\pkgs\\\\debugpy-1.5.1-py39hd77b12b_0.tar.bz2.  You probably need to delete and redownload or re-create this file\n",
    "</div>\n",
    "Należy po porstu usunąć ten folder i jeszcze raz wykonać polecenie\n",
    "<b style=\"font-family: monospace\">conda install -c anaconda ipykernel</b>\n",
    "\n",
    "### Instalacja kilku bibliotek naraz\n",
    "<b style=\"font-family: monospace\">conda create -n myenv python tensorflow keras pandas numpy matplotlib opencv</b>\n",
    "\n",
    "### Dead Kernel\n",
    "- Najprawdopodobniej przyczyną może być konflikt pandas, matplotlib oraz keras.\n"
   ]
  },
  {
   "cell_type": "code",
   "execution_count": null,
   "id": "cf216ae4",
   "metadata": {},
   "outputs": [],
   "source": [
    "# Możliwe, że istnieje problem pomiędzy keras a matplotlib???"
   ]
  },
  {
   "cell_type": "code",
   "execution_count": null,
   "id": "41ae7a55",
   "metadata": {},
   "outputs": [],
   "source": []
  }
 ],
 "metadata": {
  "kernelspec": {
   "display_name": "myenv",
   "language": "python",
   "name": "myenv"
  },
  "language_info": {
   "codemirror_mode": {
    "name": "ipython",
    "version": 3
   },
   "file_extension": ".py",
   "mimetype": "text/x-python",
   "name": "python",
   "nbconvert_exporter": "python",
   "pygments_lexer": "ipython3",
   "version": "3.9.16"
  }
 },
 "nbformat": 4,
 "nbformat_minor": 5
}
