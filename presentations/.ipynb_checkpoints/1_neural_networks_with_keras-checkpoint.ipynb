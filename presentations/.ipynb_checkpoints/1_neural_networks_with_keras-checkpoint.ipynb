{
 "cells": [
  {
   "cell_type": "markdown",
   "id": "d6741792",
   "metadata": {},
   "source": [
    "# Sieci Neuronowe z Keras\n",
    "##### Przygotował: Jan Karaś\n",
    "\n",
    "\n",
    "\n",
    "Wprowadzenie w praktycnzy aspekt korzystania z Sieci Neuronowych. Z tego notatnika dowiesz się jak:\n",
    "- skonfigurować sobie środowisko pracy, tak aby uniknąć irytujących problemów\n",
    "- czym jest Keras i jak za jego pomocą tworzyć sieci neuronowe\n",
    "- udoskonalać i zapysywać wytrenowaną sieć"
   ]
  },
  {
   "cell_type": "markdown",
   "id": "717887b3",
   "metadata": {},
   "source": [
    "# Konfiguracja"
   ]
  },
  {
   "cell_type": "markdown",
   "id": "92d15e4f",
   "metadata": {},
   "source": [
    "###  Środowisko wirtualne oraz dodanie go do Notatnika Jupyter\n",
    "<div class=\"alert alert-block alert-info\">\n",
    "<b>Wskazówka</b> Najlepiej wszystkie komendy i proces instalacji zrobić w Anaconda Prompt. W notatnikach Jupyter nie widać postępów i dłużące się czekanie może być uciążliwe.\n",
    "</div>\n",
    "\n",
    "Aby stworzyć wirtualne środowisko dla swojego projektu a następnie dodać je do notatnika jupyter wykonaj poniższe polecenia w konsoli:\n",
    "```\n",
    "conda create --name twojaNazwa\n",
    "conda activate twojaNazwa\n",
    "conda install -c anaconda ipykernel\n",
    "python -m ipykernel install --user --name=twojaNazwa\n",
    "```\n",
    "### Klonowanie repozytorium koła naukowego\n",
    "\n",
    "<b>Opisz jak sklonować repo i je w sumie zrób xD</b>\n",
    "\n",
    "\n",
    "### Instalacja bibliotek\n",
    "Będziemy korzystać z różnych bibliotek, ich ilość na początku może być przytłaczająca, ale nie należy się tym przejmować. Z czasem oswoisz się z tym, że instaluje się ich tak wiele. W tym projekcie będziemy korzystać z:\n",
    "- tensorflow - sieci neuronowe\n",
    "- keras - api ułatwiające korzystanie z tensorflow\n",
    "- matplotlib - wykresy\n",
    "- padnas - zapisywanie, wyświetlanie i obsługa tabelek z danymi\n",
    "- numpy - operacje numeryczne\n",
    "\n",
    "Aby zainstalować wymienione bibioteki wpisz w anaconda propmt następujące komendy (pamiętaj, aby robić to z aktywnyn środowiskiem wirtualnym, które przed chwilą stworzyłeś):\n",
    "<div class=\"alert alert-block alert-success\">\n",
    "    <b> Opcja 1 - instalacja poprzez użycie requirements.txt</b> <br>\n",
    "    pip install -r requirements.txt\n",
    "</div>\n",
    "\n",
    "<div class=\"alert alert-block alert-success\">\n",
    "    <b> Opcja 2 - instalacja poszczególnych bibliotek</b> <br>\n",
    "    conda install tensorflow <br>\n",
    "    conda install keras <br>\n",
    "    conda install matplotlib <br>\n",
    "    conda install pandas <br>\n",
    "    conda install numpy <br>\n",
    "    pip install kaggle <br>\n",
    "</div>"
   ]
  },
  {
   "cell_type": "code",
   "execution_count": 1,
   "id": "f0a05cff",
   "metadata": {},
   "outputs": [],
   "source": [
    "import tensorflow as tf\n",
    "import keras\n",
    "import matplotlib.pyplot as plt\n",
    "import numpy as np\n",
    "import pandas as pd\n",
    "import os"
   ]
  },
  {
   "cell_type": "markdown",
   "id": "78cb1bf9",
   "metadata": {},
   "source": [
    "### Nasz cel\n",
    "Będziemy korzystać ze zbioru CIFAR-10. Jest to zbiór zawierający obrazki o wymiarach 28 na 28, wraz z etykietami. Istnieje 10 różnych etykiet (stąd nazwa zbioru). Jest to jeden z najbardziej znanych zbiorów wykorzysytwanych do celów edukacyjnych. Będziemy przewidywać do której klasy należy dany obrazek.\n",
    "\n",
    "Dla sprawdzenia samego siebie możesz swoje predykcje przesłać do strony Kaggle i zobaczyć jaką pozycję uzyskasz w rankingu: https://www.kaggle.com/competitions/cifar-10"
   ]
  },
  {
   "cell_type": "code",
   "execution_count": null,
   "id": "df95b9cb",
   "metadata": {},
   "outputs": [],
   "source": [
    "\n",
    "# Input data files are available in the read-only \"../input/\" directory\n",
    "# For example, running this (by clicking run or pressing Shift+Enter) will list all files under the input directory\n",
    "\n",
    "import os\n",
    "for dirname, _, filenames in os.walk('/kaggle/input'):\n",
    "    for filename in filenames:\n",
    "        print(os.path.join(dirname, filename))\n"
   ]
  }
 ],
 "metadata": {
  "kernelspec": {
   "display_name": "timeSeries2",
   "language": "python",
   "name": "timeseries2"
  },
  "language_info": {
   "codemirror_mode": {
    "name": "ipython",
    "version": 3
   },
   "file_extension": ".py",
   "mimetype": "text/x-python",
   "name": "python",
   "nbconvert_exporter": "python",
   "pygments_lexer": "ipython3",
   "version": "3.9.16"
  }
 },
 "nbformat": 4,
 "nbformat_minor": 5
}
